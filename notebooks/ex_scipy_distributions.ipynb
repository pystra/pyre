{
 "cells": [
  {
   "cell_type": "markdown",
   "id": "f9ff9390-ec33-4196-9703-9ad64c0caacb",
   "metadata": {},
   "source": [
    "# SciPy Distribution Example\n",
    "\n",
    "This example shows how to use any of the SciPy distributions in `Pystra`. \n",
    "Here, we develop a simple model using the Generalized Extreme Value distribution.\n",
    "\n",
    "Start off with the necessary imports:"
   ]
  },
  {
   "cell_type": "code",
   "execution_count": 7,
   "id": "cbadfd4c-6427-406f-829a-68d9e036bf47",
   "metadata": {},
   "outputs": [],
   "source": [
    "import pystra as pr\n",
    "from scipy.stats import genextreme as gev"
   ]
  },
  {
   "cell_type": "markdown",
   "id": "becaa3e2-146f-43a5-9ef7-9d92ae1c4368",
   "metadata": {},
   "source": [
    "Define the limit state function"
   ]
  },
  {
   "cell_type": "code",
   "execution_count": 8,
   "id": "9bac7534-25fb-4d5d-9579-fc112f58b2fc",
   "metadata": {},
   "outputs": [],
   "source": [
    "def lsf(X1, X2, C):\n",
    "    return X1 - X2 - C"
   ]
  },
  {
   "cell_type": "markdown",
   "id": "cbb6c7e2-eeac-46c4-b8fb-fb0154e6da97",
   "metadata": {},
   "source": [
    "Create the GEV variable and plot that it is defined as intended:"
   ]
  },
  {
   "cell_type": "code",
   "execution_count": 9,
   "id": "03ed32ce-2119-4e48-84a8-ba975955ee02",
   "metadata": {},
   "outputs": [
    {
     "data": {
      "image/png": "[encoded data removed]",
      "text/plain": [
       "<Figure size 432x288 with 1 Axes>"
      ]
     },
     "metadata": {
      "needs_background": "light"
     },
     "output_type": "display_data"
    }
   ],
   "source": [
    "X2 = pr.ScipyDist(\"X2\", gev(c=0.1, loc=200, scale=50))\n",
    "X2.plot()"
   ]
  },
  {
   "cell_type": "markdown",
   "id": "a466dbeb-494b-40a4-9312-a416608c3541",
   "metadata": {},
   "source": [
    "Now create the limit state and stochastic model objects, and add the varaiables"
   ]
  },
  {
   "cell_type": "code",
   "execution_count": 10,
   "id": "050c86ad-0bac-44aa-8ac7-c57f44af08c3",
   "metadata": {},
   "outputs": [],
   "source": [
    "limit_state = pr.LimitState(lsf)\n",
    "\n",
    "model = pr.StochasticModel()\n",
    "model.addVariable(pr.Normal(\"X1\", 500, 100))\n",
    "model.addVariable(X2)\n",
    "model.addVariable(pr.Constant(\"C\", 50))"
   ]
  },
  {
   "cell_type": "markdown",
   "id": "48834821-8daf-4378-824f-f46172e398ad",
   "metadata": {},
   "source": [
    "Suppress the console output"
   ]
  },
  {
   "cell_type": "code",
   "execution_count": 11,
   "id": "e2d1ade5-3537-4ea2-b4be-48ce1a0501e9",
   "metadata": {},
   "outputs": [],
   "source": [
    "options = pr.AnalysisOptions()\n",
    "options.setPrintOutput(False)"
   ]
  },
  {
   "cell_type": "markdown",
   "id": "ea5ba1e0-3422-4b2e-9662-586495585bcd",
   "metadata": {},
   "source": [
    "Execute a FORM analysis"
   ]
  },
  {
   "cell_type": "code",
   "execution_count": 12,
   "id": "caa2278c-906a-4897-8159-e96d460bc055",
   "metadata": {},
   "outputs": [
    {
     "name": "stdout",
     "output_type": "stream",
     "text": [
      "\n",
      "======================================================\n",
      "FORM\n",
      "======================================================\n",
      "Pf              \t 2.4939239502e-02\n",
      "BetaHL          \t 1.9610046625\n",
      "Model Evaluations \t 39\n",
      "------------------------------------------------------\n",
      "Variable   \t    U_star \t       X_star \t     alpha\n",
      "X1         \t -1.592128 \t   340.787183 \t -0.811736\n",
      "X2         \t  1.144844 \t   290.787242 \t +0.584025\n",
      "C          \t       --- \t    50.000000 \t       ---\n",
      "======================================================\n",
      "\n"
     ]
    }
   ],
   "source": [
    "form = pr.Form(stochastic_model=model, limit_state=limit_state, analysis_options=options)\n",
    "form.run()\n",
    "form.showDetailedOutput()"
   ]
  },
  {
   "cell_type": "markdown",
   "id": "bfdafe33-8c71-4ffa-9523-1bab1d124471",
   "metadata": {},
   "source": [
    "And then a SORM analysis (passing the existing FORM object for eficiency)"
   ]
  },
  {
   "cell_type": "code",
   "execution_count": 13,
   "id": "690f3795-6800-4045-b0ed-446d7558b01e",
   "metadata": {},
   "outputs": [
    {
     "name": "stdout",
     "output_type": "stream",
     "text": [
      "\n",
      "======================================================\n",
      "\n",
      "RESULTS FROM RUNNING SECOND ORDER RELIABILITY METHOD\n",
      "\n",
      "Generalized reliability index:  1.9257163705247708\n",
      "Probability of failure:         0.027069899329046212\n",
      "\n",
      "Curavture 1: -0.07711553440911698\n",
      "======================================================\n",
      "\n",
      "\n",
      "======================================================\n",
      "FORM/SORM\n",
      "======================================================\n",
      "Pf FORM         \t\t 2.4939239502e-02\n",
      "Pf SORM Breitung \t\t 2.7069899329e-02\n",
      "Pf SORM Breitung HR \t 2.7546692546e-02\n",
      "Beta_HL         \t\t 1.9610046625\n",
      "Beta_G Breitung \t\t 1.9257163705\n",
      "Beta_G Breitung HR \t\t 1.9181390266\n",
      "Model Evaluations \t\t 48\n",
      "------------------------------------------------------\n",
      "Curvature 1: -0.07711553440911698\n",
      "------------------------------------------------------\n",
      "Variable   \t    U_star \t       X_star \t     alpha\n",
      "X1         \t -1.592128 \t   340.787183 \t -0.811736\n",
      "X2         \t  1.144844 \t   290.787242 \t +0.584025\n",
      "C          \t       --- \t    50.000000 \t       ---\n",
      "======================================================\n",
      "\n"
     ]
    }
   ],
   "source": [
    "sorm = pr.Sorm(stochastic_model=model, limit_state=limit_state, form=form)\n",
    "sorm.run()\n",
    "sorm.showDetailedOutput()"
   ]
  }
 ],
 "metadata": {
  "kernelspec": {
   "display_name": "pystra",
   "language": "python",
   "name": "pystra"
  },
  "language_info": {
   "codemirror_mode": {
    "name": "ipython",
    "version": 3
   },
   "file_extension": ".py",
   "mimetype": "text/x-python",
   "name": "python",
   "nbconvert_exporter": "python",
   "pygments_lexer": "ipython3",
   "version": "3.10.5"
  }
 },
 "nbformat": 4,
 "nbformat_minor": 5
}
