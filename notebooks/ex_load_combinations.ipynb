{
 "cells": [
  {
   "cell_type": "markdown",
   "id": "6e11b992-aa12-455e-9293-c58ea93190ff",
   "metadata": {},
   "source": [
    "# Load Combinations\n",
    "*Pystra* includes the class `LoadCombination` which can be used to analyse a structural reliability problem for different load cases. This example demonstrates the use of load combination cases with *Pystra*."
   ]
  },
  {
   "cell_type": "markdown",
   "id": "4ad051e1-2a2a-4f90-b5e5-0827693e79bb",
   "metadata": {},
   "source": [
    "This demonstration problem is adopted from Example 4 pp 190-1 from Sorensen, J.D. (2004), *Notes in Structural Reliability Theory And Risk Analysis*. The parameter values are slightly modified for demonstration.\n",
    "\n",
    "## Import Libraries"
   ]
  },
  {
   "cell_type": "code",
   "execution_count": 1,
   "id": "0c7b323d-8cf5-480f-91cc-f35a5c4e4035",
   "metadata": {},
   "outputs": [],
   "source": [
    "import pystra as ra\n",
    "import numpy as np"
   ]
  },
  {
   "cell_type": "markdown",
   "id": "f08f35b7-1161-4c23-8968-1f0fe8a4512a",
   "metadata": {},
   "source": [
    "## Define the limit state function\n",
    "The LSF to be supplied in `LoadCombination` can be any valid *Pystra* LSF. Here we show how random variables and even constants (e.g. `cg`) can be passed through as *Pystra* objects, or can be hard-coded into the LSF."
   ]
  },
  {
   "cell_type": "code",
   "execution_count": 2,
   "id": "4f3638db-52cd-41d7-87b4-ee9e32b55b9b",
   "metadata": {},
   "outputs": [],
   "source": [
    "def lsf(R, G, Q1, Q2, cg):\n",
    "    return R - (cg*G + 0.6*Q1 + 0.3*Q2)"
   ]
  },
  {
   "cell_type": "markdown",
   "id": "109206fc-f860-4bdb-88d9-45febddd4f17",
   "metadata": {},
   "source": [
    "## Define the Load and Resistance distributions\n",
    "We define the distributions of the loads for the load combinations. Some loads will be time-invariant (e.g. permanent loads), while some will be combination random variables (e.g. winds, imposed loads). These combination loads require the definition of a point-in-time (`'pit'`) distribution and a maximum (`'max'`) distribtribution (typically annual maximum). Note that *Pystra* has built in distribution objects to convert between the two: `MaxParent` and `Maximum`.\n",
    "\n",
    "For the combination loads, we define a dictionary which contains a key for each variable in the LSF, and a dictionary with the `pit` and `max` key values being the corresponding *Pystra* distribution objects."
   ]
  },
  {
   "cell_type": "code",
   "execution_count": 3,
   "id": "d4e875bf-d685-42b2-ad0f-edf27978d93e",
   "metadata": {},
   "outputs": [],
   "source": [
    "# Annual max distributions\n",
    "Q1max = ra.Gumbel(\"Q1\", 1, 0.2)  # Imposed Load\n",
    "Q2max = ra.Gumbel(\"Q2\", 1, 0.4)  # Wind Load\n",
    "# Parameters of inferred point-in-time parents\n",
    "Q1pit = ra.Gumbel(\"Q1\", 0.89, 0.2)  # Imposed Load\n",
    "Q2pit = ra.Gumbel(\"Q2\", 0.77, 0.4)  # Wind Load\n",
    "Q_dict = {'Q1': {'max': Q1max, 'pit': Q1pit}, \n",
    "          'Q2': {'max': Q2max, 'pit': Q2pit}}\n",
    "# Define any constants to be passed through\n",
    "cg = ra.Constant(\"cg\", 0.4)\n",
    "## Define other random variables\n",
    "Rdist = ra.Lognormal(\"R\", 2.0, 0.15)  # Resistance\n",
    "Gdist = ra.Normal(\"G\", 1, 0.1)  # Permanent Load (Other load variable)"
   ]
  },
  {
   "cell_type": "markdown",
   "id": "b414e150-2d67-4530-8e2c-424529901260",
   "metadata": {},
   "source": [
    "## Specify load combination cases\n",
    "For this problem, in addition to the permanent loads, we're interested in investigating the reliabilities for several load combinations:\n",
    "1. `Q1Q2_max`: Where both `Q1` and `Q2` maximum distributions are considered simultaneously, as an obvious conservative estimation.\n",
    "2. `Q1_max`: `Q1` is maximum and  `Q2` is the point-in-time distribution.\n",
    "3. `Q2_max`: `Q1` is the point-in-time distribution and  `Q2` is maximum.\n",
    "\n",
    "We define a dictionary with the relevant loadcase names and corresponding variable names form the LSF."
   ]
  },
  {
   "cell_type": "code",
   "execution_count": 4,
   "id": "0482ebcb-28b3-4c77-b51e-3a0da5ad5d3b",
   "metadata": {},
   "outputs": [],
   "source": [
    "loadcombinations = {'Q1Q2_max':['Q1', 'Q2'], 'Q1_max':['Q1'], 'Q2_max':['Q2']}"
   ]
  },
  {
   "cell_type": "markdown",
   "id": "387c5752-a879-4df2-84eb-f70cac91e6c0",
   "metadata": {},
   "source": [
    "**Note**: The specification of this dictionary is optional. By default, `LoadCombination` assumes one combination load to act at its maximum in a load case, while the others are considered to be the point-in-time distribution."
   ]
  },
  {
   "cell_type": "markdown",
   "id": "39a4d05d-8cfe-4787-bb0a-5d78d08acdd1",
   "metadata": {},
   "source": [
    "## Instantiate `LoadCombination` object\n",
    "`LoadCombination` class requires specification of combination distributions as a dictionary, while the other distributions (permanent loads and resistances) are specified as a list."
   ]
  },
  {
   "cell_type": "code",
   "execution_count": 5,
   "id": "6e48d8ca-c19d-4d9b-8b2e-7a11c3242eb7",
   "metadata": {},
   "outputs": [],
   "source": [
    "lc = ra.LoadCombination(lsf, Q_dict, [Gdist], [Rdist], [cg],\n",
    "                          dict_comb_cases=loadcombinations)"
   ]
  },
  {
   "cell_type": "markdown",
   "id": "9578baec-1799-4f66-b6b9-68a55e47775b",
   "metadata": {},
   "source": [
    "## Analyse Load Cases\n",
    "\n",
    "Use a list to keep track of each `Form` object outputted:"
   ]
  },
  {
   "cell_type": "code",
   "execution_count": 6,
   "id": "de1a1263-99bf-404b-a95b-ed11a10858f2",
   "metadata": {},
   "outputs": [],
   "source": [
    "form = 3*[None]"
   ]
  },
  {
   "cell_type": "markdown",
   "id": "d9a18ec7-0d7e-4f45-8c5f-95532470cace",
   "metadata": {},
   "source": [
    "### Load Case 1"
   ]
  },
  {
   "cell_type": "code",
   "execution_count": 7,
   "id": "05489e20-e752-4aa2-be71-8ca9445730a2",
   "metadata": {},
   "outputs": [
    {
     "name": "stdout",
     "output_type": "stream",
     "text": [
      "\n",
      "======================================================\n",
      "FORM\n",
      "======================================================\n",
      "Pf              \t 2.3296784889e-03\n",
      "BetaHL          \t 2.8296869486\n",
      "Model Evaluations \t 49\n",
      "------------------------------------------------------\n",
      "Variable   \t    U_star \t       X_star \t     alpha\n",
      "R          \t -1.176605 \t     1.826170 \t -0.415775\n",
      "G          \t  0.344173 \t     1.034417 \t +0.121598\n",
      "Q1         \t  1.803368 \t     1.427003 \t +0.637317\n",
      "Q2         \t  1.803368 \t     1.854005 \t +0.637317\n",
      "cg         \t       --- \t     0.400000 \t       ---\n",
      "======================================================\n",
      "\n"
     ]
    }
   ],
   "source": [
    "lc_idx = 0\n",
    "form[lc_idx] = lc.run_reliability_case(lcn='Q1Q2_max')\n",
    "form[lc_idx].showDetailedOutput()"
   ]
  },
  {
   "cell_type": "markdown",
   "id": "63bff80e-6d3b-4dbe-a6ff-30c4f5bdbfc6",
   "metadata": {},
   "source": [
    "### Load Case 2"
   ]
  },
  {
   "cell_type": "code",
   "execution_count": 8,
   "id": "5544eaf5-830b-49a3-81eb-02da51b69f44",
   "metadata": {},
   "outputs": [
    {
     "name": "stdout",
     "output_type": "stream",
     "text": [
      "\n",
      "======================================================\n",
      "FORM\n",
      "======================================================\n",
      "Pf              \t 1.2027976121e-03\n",
      "BetaHL          \t 3.0349701148\n",
      "Model Evaluations \t 49\n",
      "------------------------------------------------------\n",
      "Variable   \t    U_star \t       X_star \t     alpha\n",
      "R          \t -1.206238 \t     1.822122 \t -0.397410\n",
      "G          \t  0.353656 \t     1.035366 \t +0.116485\n",
      "Q1         \t  1.953325 \t     1.480813 \t +0.643621\n",
      "Q2         \t  1.953325 \t     1.731626 \t +0.643621\n",
      "cg         \t       --- \t     0.400000 \t       ---\n",
      "======================================================\n",
      "\n"
     ]
    }
   ],
   "source": [
    "lc_idx = 1\n",
    "form[lc_idx] = lc.run_reliability_case(lcn='Q1_max')\n",
    "form[lc_idx].showDetailedOutput()"
   ]
  },
  {
   "cell_type": "markdown",
   "id": "2b7cfb0b-1f98-4832-8e07-d97e36beed3a",
   "metadata": {},
   "source": [
    "### Load Case 3"
   ]
  },
  {
   "cell_type": "code",
   "execution_count": 9,
   "id": "232b0f83-716b-4162-88d1-fe712c163c5e",
   "metadata": {},
   "outputs": [
    {
     "name": "stdout",
     "output_type": "stream",
     "text": [
      "\n",
      "======================================================\n",
      "FORM\n",
      "======================================================\n",
      "Pf              \t 1.2381361918e-03\n",
      "BetaHL          \t 3.0262258803\n",
      "Model Evaluations \t 49\n",
      "------------------------------------------------------\n",
      "Variable   \t    U_star \t       X_star \t     alpha\n",
      "R          \t -1.205073 \t     1.822281 \t -0.398173\n",
      "G          \t  0.353282 \t     1.035328 \t +0.116698\n",
      "Q1         \t  1.946925 \t     1.368458 \t +0.643366\n",
      "Q2         \t  1.946925 \t     1.956916 \t +0.643366\n",
      "cg         \t       --- \t     0.400000 \t       ---\n",
      "======================================================\n",
      "\n"
     ]
    }
   ],
   "source": [
    "lc_idx = 2\n",
    "form[lc_idx] = lc.run_reliability_case(lcn='Q2_max')\n",
    "form[lc_idx].showDetailedOutput()"
   ]
  },
  {
   "cell_type": "markdown",
   "id": "7d88c0f0-d53e-4c72-a57c-9e6cc0abe763",
   "metadata": {},
   "source": [
    "#### Display reliability per load combination"
   ]
  },
  {
   "cell_type": "code",
   "execution_count": 10,
   "id": "279402ea-7a7f-4fe4-a196-066e297af632",
   "metadata": {},
   "outputs": [
    {
     "name": "stdout",
     "output_type": "stream",
     "text": [
      "Q1Q2_max: β = 2.830\n",
      "Q1_max: β = 3.035\n",
      "Q2_max: β = 3.026\n"
     ]
    }
   ],
   "source": [
    "for lc,β in zip([k for k in loadcombinations.keys()], [f.beta for f in form]):\n",
    "    print(f\"{lc}: β = {β[0]:.3f}\")"
   ]
  }
 ],
 "metadata": {
  "kernelspec": {
   "display_name": "Python [conda env:njb]",
   "language": "python",
   "name": "conda-env-njb-py"
  },
  "language_info": {
   "codemirror_mode": {
    "name": "ipython",
    "version": 3
   },
   "file_extension": ".py",
   "mimetype": "text/x-python",
   "name": "python",
   "nbconvert_exporter": "python",
   "pygments_lexer": "ipython3",
   "version": "3.10.6"
  }
 },
 "nbformat": 4,
 "nbformat_minor": 5
}
